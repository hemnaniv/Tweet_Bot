{
 "cells": [
  {
   "cell_type": "code",
   "execution_count": 1,
   "metadata": {
    "ExecuteTime": {
     "end_time": "2018-04-01T23:05:48.368942Z",
     "start_time": "2018-04-01T23:05:47.273062Z"
    }
   },
   "outputs": [
    {
     "name": "stderr",
     "output_type": "stream",
     "text": [
      "Using TensorFlow backend.\n"
     ]
    }
   ],
   "source": [
    "import keras\n",
    "import pandas as pd\n",
    "import numpy as np\n",
    "from keras.preprocessing.text import text_to_word_sequence, Tokenizer\n",
    "from nltk.tokenize.casual import casual_tokenize\n",
    "from keras.callbacks import ModelCheckpoint\n",
    "from keras.models import Sequential\n",
    "from keras.layers import Activation, Dropout, Dense, LSTM\n",
    "from keras.optimizers import RMSprop\n",
    "\n",
    "from collections import Counter\n",
    "from sklearn.feature_extraction.text import CountVectorizer"
   ]
  },
  {
   "cell_type": "code",
   "execution_count": 2,
   "metadata": {
    "ExecuteTime": {
     "end_time": "2018-04-01T23:05:48.381495Z",
     "start_time": "2018-04-01T23:05:48.370000Z"
    }
   },
   "outputs": [],
   "source": [
    "df_tweets = pd.read_csv(\"tiwari_unique_tweets.csv\", index_col=0)"
   ]
  },
  {
   "cell_type": "code",
   "execution_count": 3,
   "metadata": {
    "ExecuteTime": {
     "end_time": "2018-04-01T23:05:48.579530Z",
     "start_time": "2018-04-01T23:05:48.382477Z"
    }
   },
   "outputs": [],
   "source": [
    "df_tweets.created_at = pd.to_datetime(df_tweets.created_at)\n",
    "df_tweets.rename(index=str, columns={\"created_at\": \"time\"}, inplace=True)\n",
    "df_noat = df_tweets.loc[df_tweets['text'].str.find('@') != 0].copy()"
   ]
  },
  {
   "cell_type": "code",
   "execution_count": 4,
   "metadata": {
    "ExecuteTime": {
     "end_time": "2018-04-01T23:05:48.583127Z",
     "start_time": "2018-04-01T23:05:48.580679Z"
    }
   },
   "outputs": [],
   "source": [
    "df_noat['text_lower'] = df_noat.text.str.lower()"
   ]
  },
  {
   "cell_type": "code",
   "execution_count": 5,
   "metadata": {
    "ExecuteTime": {
     "end_time": "2018-04-01T23:05:48.648740Z",
     "start_time": "2018-04-01T23:05:48.584393Z"
    }
   },
   "outputs": [],
   "source": [
    "nw_words = [\n",
    "    casual_tokenize(\n",
    "        tweet,\n",
    "        reduce_len=True,\n",
    "    ) for tweet in df_noat['text_lower']\n",
    "]"
   ]
  },
  {
   "cell_type": "code",
   "execution_count": 6,
   "metadata": {
    "ExecuteTime": {
     "end_time": "2018-04-01T23:05:48.655622Z",
     "start_time": "2018-04-01T23:05:48.649694Z"
    }
   },
   "outputs": [],
   "source": [
    "nw_corp = [word for sub in nw_words for word in sub if 'http' not in word]\n",
    "nw_chars = [char for word in nw_corp for char in word]"
   ]
  },
  {
   "cell_type": "code",
   "execution_count": 7,
   "metadata": {
    "ExecuteTime": {
     "end_time": "2018-04-01T23:05:49.971738Z",
     "start_time": "2018-04-01T23:05:48.656767Z"
    }
   },
   "outputs": [],
   "source": [
    "chars_in_corpus = Counter()\n",
    "text = []\n",
    "for tweet in nw_words:\n",
    "    for word in tweet:\n",
    "        if 'http' not in word:\n",
    "            text.append(word + ' ')\n",
    "    text.append(' ` ')\n",
    "\n",
    "text = ''.join(text)\n",
    "\n",
    "for char in text:\n",
    "    chars_in_corpus.update(char)\n",
    "    lexicon = list(chars_in_corpus.keys())\n",
    "    char_to_index = {char: i for (i, char) in enumerate(lexicon)}\n",
    "    index_to_char = {i: char for (i, char) in enumerate(lexicon)}"
   ]
  },
  {
   "cell_type": "code",
   "execution_count": 9,
   "metadata": {
    "ExecuteTime": {
     "end_time": "2018-04-01T23:06:43.928340Z",
     "start_time": "2018-04-01T23:06:43.916293Z"
    }
   },
   "outputs": [
    {
     "data": {
      "text/plain": [
       "count    1697.000000\n",
       "mean       85.723630\n",
       "std        38.764767\n",
       "min         3.000000\n",
       "25%        53.000000\n",
       "50%        85.000000\n",
       "75%       123.000000\n",
       "max       143.000000\n",
       "Name: text_lower, dtype: float64"
      ]
     },
     "execution_count": 9,
     "metadata": {},
     "output_type": "execute_result"
    }
   ],
   "source": [
    "df_noat['text_lower'].str.len().describe()"
   ]
  },
  {
   "cell_type": "code",
   "execution_count": 50,
   "metadata": {
    "ExecuteTime": {
     "end_time": "2018-04-01T23:28:20.352793Z",
     "start_time": "2018-04-01T23:28:20.297495Z"
    }
   },
   "outputs": [],
   "source": [
    "CORPUS_LENGTH = len(text)\n",
    "MAX_SEQ_LENGTH = 65\n",
    "SEQ_STEP = 3\n",
    "N_SEQS = None\n",
    "\n",
    "\n",
    "def create_sequences(corpus):\n",
    "    sequences, next_chars = [], []\n",
    "    for i in range(0, CORPUS_LENGTH - MAX_SEQ_LENGTH, SEQ_STEP):\n",
    "        sequences.append(corpus[i:i + MAX_SEQ_LENGTH])\n",
    "        next_chars.append(corpus[i + MAX_SEQ_LENGTH])\n",
    "    global N_SEQS\n",
    "    N_SEQS = len(sequences)\n",
    "    return np.array(sequences), np.array(next_chars)\n",
    "\n",
    "\n",
    "sequences, next_chars = create_sequences(text)"
   ]
  },
  {
   "cell_type": "code",
   "execution_count": null,
   "metadata": {
    "ExecuteTime": {
     "end_time": "2018-04-01T21:55:48.561420Z",
     "start_time": "2018-04-01T21:55:48.558731Z"
    }
   },
   "outputs": [],
   "source": []
  },
  {
   "cell_type": "code",
   "execution_count": 51,
   "metadata": {
    "ExecuteTime": {
     "end_time": "2018-04-01T23:28:22.989989Z",
     "start_time": "2018-04-01T23:28:21.172079Z"
    }
   },
   "outputs": [],
   "source": [
    "cv = CountVectorizer(analyzer='char')\n",
    "one_hot_X = cv.fit_transform(sequences)\n",
    "\n",
    "X = np.zeros([len(sequences), MAX_SEQ_LENGTH, len(cv.get_feature_names())])\n",
    "y = np.zeros([len(next_chars), len(cv.get_feature_names())])\n",
    "char_to_index = {char: i for (i, char) in enumerate(cv.get_feature_names())}\n",
    "index_to_char = {i: char for (i, char) in enumerate(cv.get_feature_names())}\n",
    "\n",
    "for index, seq in enumerate(sequences):\n",
    "    for i2, char in enumerate(seq):\n",
    "        X[index, i2, char_to_index[char]] = 1\n",
    "    y[index, char_to_index[char]] = 1"
   ]
  },
  {
   "cell_type": "code",
   "execution_count": 52,
   "metadata": {
    "ExecuteTime": {
     "end_time": "2018-04-01T23:28:23.321969Z",
     "start_time": "2018-04-01T23:28:23.131110Z"
    }
   },
   "outputs": [],
   "source": [
    "N_CHARS = len(cv.get_feature_names())\n",
    "\n",
    "\n",
    "def build_model(hidden_layer_size=128,\n",
    "                dropout=0.2,\n",
    "                learning_rate=0.01,\n",
    "                verbose=0):\n",
    "    model = Sequential()\n",
    "    model.add(\n",
    "        LSTM(\n",
    "            hidden_layer_size,\n",
    "            return_sequences=True,\n",
    "            input_shape=(MAX_SEQ_LENGTH, N_CHARS)))\n",
    "    model.add(Dropout(dropout))\n",
    "    model.add(LSTM(hidden_layer_size, return_sequences=False))\n",
    "    model.add(Dropout(dropout))\n",
    "    model.add(Dense(N_CHARS, activation='softmax'))\n",
    "    optimizer = RMSprop(lr=0.01)\n",
    "    model.compile(\n",
    "        loss='categorical_crossentropy', optimizer=RMSprop(lr=learning_rate))\n",
    "    if verbose:\n",
    "        print('Model Summary:')\n",
    "        model.summary()\n",
    "\n",
    "    return model\n",
    "\n",
    "\n",
    "model = build_model()"
   ]
  },
  {
   "cell_type": "code",
   "execution_count": 53,
   "metadata": {
    "ExecuteTime": {
     "end_time": "2018-04-01T23:29:53.673777Z",
     "start_time": "2018-04-01T23:28:23.461223Z"
    }
   },
   "outputs": [
    {
     "name": "stdout",
     "output_type": "stream",
     "text": [
      "Epoch 1/1\n",
      "50425/50425 [==============================] - 89s 2ms/step - loss: 0.6731\n",
      "\n",
      "Epoch 00001: loss improved from inf to 0.67306, saving model to weights.hdf5\n"
     ]
    }
   ],
   "source": [
    "verbose = 1\n",
    "def train_model(model, X, y, batch_size=128, epochs=1, verbose=0):\n",
    "    checkpointer = ModelCheckpoint(\n",
    "        filepath=\"weights.hdf5\",\n",
    "        monitor='loss',\n",
    "        verbose=verbose,\n",
    "        save_best_only=True,\n",
    "        mode='min')\n",
    "    model.fit(\n",
    "        X,\n",
    "        y,\n",
    "        batch_size=batch_size,\n",
    "        epochs=epochs,\n",
    "        verbose=verbose,\n",
    "        callbacks=[checkpointer])\n",
    "\n",
    "\n",
    "train_model(model, X, y, verbose=verbose)"
   ]
  },
  {
   "cell_type": "code",
   "execution_count": 54,
   "metadata": {
    "ExecuteTime": {
     "end_time": "2018-04-01T23:29:53.813326Z",
     "start_time": "2018-04-01T23:29:53.811635Z"
    }
   },
   "outputs": [],
   "source": [
    "np.random.seed(42)"
   ]
  },
  {
   "cell_type": "code",
   "execution_count": 55,
   "metadata": {
    "ExecuteTime": {
     "end_time": "2018-04-01T23:29:53.951269Z",
     "start_time": "2018-04-01T23:29:53.947737Z"
    }
   },
   "outputs": [],
   "source": [
    "def sample(preds):\n",
    "    preds = np.asarray(preds).astype('float64')\n",
    "    preds = np.log(preds) / 0.2\n",
    "    exp_preds = np.exp(preds)\n",
    "    preds = exp_preds / np.sum(exp_preds)\n",
    "    probas = np.random.multinomial(1, preds, 1)\n",
    "    return np.argmax(probas)"
   ]
  },
  {
   "cell_type": "code",
   "execution_count": 56,
   "metadata": {
    "ExecuteTime": {
     "end_time": "2018-04-01T23:29:54.532121Z",
     "start_time": "2018-04-01T23:29:54.086036Z"
    }
   },
   "outputs": [
    {
     "name": "stdout",
     "output_type": "stream",
     "text": [
      "Tweet no. 001\n",
      "=============\n",
      "Generating with seed:\n",
      " memphis is hanging out with pogba and lukaku . i'm not saying an\n",
      "_________________________________________________________________\n",
      " memphis is hanging out with pogba and lukaku . i'm not saying ann\n",
      "\n",
      "Tweet no. 002\n",
      "=============\n",
      "Generating with seed:\n",
      " #freereus #mufc #transfers #deadlineday  ` 2 minutes to bring in\n",
      "_________________________________________________________________\n",
      " #freereus #mufc #transfers #deadlineday  ` 2 minutes to bring inn\n",
      "\n",
      "Tweet no. 003\n",
      "=============\n",
      "Generating with seed:\n",
      " have bastian schweinsteiger and ander herrera and we play michea\n",
      "_________________________________________________________________\n",
      " have bastian schweinsteiger and ander herrera and we play micheaa\n",
      "\n",
      "Tweet no. 004\n",
      "=============\n",
      "Generating with seed:\n",
      " . lvg , use your head . #mufc #facupsemifinal #lvgout  ` van gaa\n",
      "_________________________________________________________________\n",
      " . lvg , use your head . #mufc #facupsemifinal #lvgout  ` van gaaa\n",
      "\n",
      "Tweet no. 005\n",
      "=============\n",
      "Generating with seed:\n",
      " apology from media for saying the truth . same with scholes . sa\n",
      "_________________________________________________________________\n",
      " apology from media for saying the truth . same with scholes . saa\n",
      "\n",
      "Tweet no. 006\n",
      "=============\n",
      "Generating with seed:\n",
      " game . don't know how good he his . really hope he's better than\n",
      "_________________________________________________________________\n",
      " game . don't know how good he his . really hope he's better thann\n",
      "\n",
      "Tweet no. 007\n",
      "=============\n",
      "Generating with seed:\n",
      " has to go.simple as that.never a united player . yes , he's scor\n",
      "_________________________________________________________________\n",
      " has to go.simple as that.never a united player . yes , he's scorr\n",
      "\n",
      "Tweet no. 008\n",
      "=============\n",
      "Generating with seed:\n",
      "  ` love harry kane . deadly in front of goal . #princeharry  ` l\n",
      "_________________________________________________________________\n",
      "  ` love harry kane . deadly in front of goal . #princeharry  ` ll\n",
      "\n",
      "Tweet no. 009\n",
      "=============\n",
      "Generating with seed:\n",
      " sanchez but herrera ain't far behind .  ` blind , herrera both @\n",
      "_________________________________________________________________\n",
      " sanchez but herrera ain't far behind .  ` blind , herrera both @:\n",
      "\n",
      "Tweet no. 010\n",
      "=============\n",
      "Generating with seed:\n",
      " luck in the championship .  ` fellaini . that's horrible . unpro\n",
      "_________________________________________________________________\n",
      " luck in the championship .  ` fellaini . that's horrible . unproo\n",
      "\n"
     ]
    }
   ],
   "source": [
    "def generate_tweets(model, corpus, char_to_idx, idx_to_char, n_tweets=10, verbose=0): \n",
    "    model.load_weights('weights.hdf5')\n",
    "    tweets = []\n",
    "    spaces_in_corpus = np.array([idx for idx in range(CORPUS_LENGTH) if text[idx] == ' '])\n",
    "    for i in range(1, n_tweets + 1):\n",
    "        begin = np.random.choice(spaces_in_corpus)\n",
    "        tweet = u''\n",
    "        sequence = text[begin:begin + MAX_SEQ_LENGTH]\n",
    "        tweet += sequence\n",
    "        if verbose:\n",
    "            print('Tweet no. %03d' % i)\n",
    "            print('=' * 13)\n",
    "            print('Generating with seed:')\n",
    "            print(sequence)\n",
    "            print('_' * len(sequence))\n",
    "        for _ in range(1):\n",
    "            x = np.zeros((1, MAX_SEQ_LENGTH, N_CHARS))\n",
    "            for t, char in enumerate(sequence):\n",
    "                x[0, t, char_to_idx[char]] = 1.0\n",
    "\n",
    "            preds = model.predict(x, verbose=0)[0]\n",
    "            next_idx = sample(preds)\n",
    "            next_char = idx_to_char[next_idx]\n",
    "\n",
    "            tweet += next_char\n",
    "            sequence = sequence[1:] + next_char\n",
    "        if verbose:\n",
    "            print(tweet)\n",
    "            print()\n",
    "        tweets.append(tweet)\n",
    "    return tweets\n",
    "\n",
    "tweets = generate_tweets(model, text, char_to_index, index_to_char, verbose=verbose)\n"
   ]
  },
  {
   "cell_type": "code",
   "execution_count": 30,
   "metadata": {
    "ExecuteTime": {
     "end_time": "2018-04-01T23:21:07.617478Z",
     "start_time": "2018-04-01T23:21:07.614895Z"
    }
   },
   "outputs": [
    {
     "ename": "SyntaxError",
     "evalue": "invalid syntax (<ipython-input-30-e2c1fc6d3fa3>, line 4)",
     "output_type": "error",
     "traceback": [
      "\u001b[0;36m  File \u001b[0;32m\"<ipython-input-30-e2c1fc6d3fa3>\"\u001b[0;36m, line \u001b[0;32m4\u001b[0m\n\u001b[0;31m    if\u001b[0m\n\u001b[0m       ^\u001b[0m\n\u001b[0;31mSyntaxError\u001b[0m\u001b[0;31m:\u001b[0m invalid syntax\n"
     ]
    }
   ],
   "source": [
    "for subtweets in tweets:\n",
    "    temp = subtweets.split(' ` ')\n",
    "    for tweet in temp:\n",
    "        if "
   ]
  },
  {
   "cell_type": "code",
   "execution_count": 28,
   "metadata": {
    "ExecuteTime": {
     "end_time": "2018-04-01T23:20:20.821831Z",
     "start_time": "2018-04-01T23:20:20.816672Z"
    }
   },
   "outputs": [
    {
     "data": {
      "text/plain": [
       "170"
      ]
     },
     "execution_count": 28,
     "metadata": {},
     "output_type": "execute_result"
    }
   ],
   "source": [
    "len(tweets[2])"
   ]
  },
  {
   "cell_type": "code",
   "execution_count": null,
   "metadata": {},
   "outputs": [],
   "source": []
  }
 ],
 "metadata": {
  "kernelspec": {
   "display_name": "Python 3",
   "language": "python",
   "name": "python3"
  },
  "language_info": {
   "codemirror_mode": {
    "name": "ipython",
    "version": 3
   },
   "file_extension": ".py",
   "mimetype": "text/x-python",
   "name": "python",
   "nbconvert_exporter": "python",
   "pygments_lexer": "ipython3",
   "version": "3.6.5"
  },
  "toc": {
   "nav_menu": {},
   "number_sections": true,
   "sideBar": true,
   "skip_h1_title": false,
   "title_cell": "Table of Contents",
   "title_sidebar": "Contents",
   "toc_cell": false,
   "toc_position": {},
   "toc_section_display": true,
   "toc_window_display": false
  },
  "varInspector": {
   "cols": {
    "lenName": 16,
    "lenType": 16,
    "lenVar": 40
   },
   "kernels_config": {
    "python": {
     "delete_cmd_postfix": "",
     "delete_cmd_prefix": "del ",
     "library": "var_list.py",
     "varRefreshCmd": "print(var_dic_list())"
    },
    "r": {
     "delete_cmd_postfix": ") ",
     "delete_cmd_prefix": "rm(",
     "library": "var_list.r",
     "varRefreshCmd": "cat(var_dic_list()) "
    }
   },
   "types_to_exclude": [
    "module",
    "function",
    "builtin_function_or_method",
    "instance",
    "_Feature"
   ],
   "window_display": false
  }
 },
 "nbformat": 4,
 "nbformat_minor": 2
}
