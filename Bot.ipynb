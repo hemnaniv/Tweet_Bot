{
 "cells": [
  {
   "cell_type": "code",
   "execution_count": 60,
   "metadata": {
    "ExecuteTime": {
     "end_time": "2018-04-01T22:46:38.292343Z",
     "start_time": "2018-04-01T22:46:38.284689Z"
    }
   },
   "outputs": [],
   "source": [
    "import keras\n",
    "import pandas as pd\n",
    "import numpy as np\n",
    "from keras.preprocessing.text import text_to_word_sequence, Tokenizer\n",
    "from nltk.tokenize.casual import casual_tokenize\n",
    "from keras.callbacks import ModelCheckpoint\n",
    "from keras.models import Sequential\n",
    "from keras.layers import Activation, Dropout, Dense, LSTM\n",
    "from keras.optimizers import RMSprop\n",
    "\n",
    "from collections import Counter\n",
    "from sklearn.feature_extraction.text import CountVectorizer"
   ]
  },
  {
   "cell_type": "code",
   "execution_count": 2,
   "metadata": {
    "ExecuteTime": {
     "end_time": "2018-04-01T21:11:50.716031Z",
     "start_time": "2018-04-01T21:11:50.704254Z"
    }
   },
   "outputs": [],
   "source": [
    "df_tweets = pd.read_csv(\"tiwari_unique_tweets.csv\", index_col=0)"
   ]
  },
  {
   "cell_type": "code",
   "execution_count": 3,
   "metadata": {
    "ExecuteTime": {
     "end_time": "2018-04-01T21:11:50.923964Z",
     "start_time": "2018-04-01T21:11:50.717151Z"
    }
   },
   "outputs": [],
   "source": [
    "df_tweets.created_at = pd.to_datetime(df_tweets.created_at)\n",
    "df_tweets.rename(index=str, columns={\"created_at\": \"time\"}, inplace=True)\n",
    "df_noat = df_tweets.loc[df_tweets['text'].str.find('@') != 0].copy()"
   ]
  },
  {
   "cell_type": "code",
   "execution_count": 4,
   "metadata": {
    "ExecuteTime": {
     "end_time": "2018-04-01T21:11:50.928406Z",
     "start_time": "2018-04-01T21:11:50.925329Z"
    }
   },
   "outputs": [],
   "source": [
    "df_noat['text_lower'] = df_noat.text.str.lower()"
   ]
  },
  {
   "cell_type": "code",
   "execution_count": 5,
   "metadata": {
    "ExecuteTime": {
     "end_time": "2018-04-01T21:11:51.000642Z",
     "start_time": "2018-04-01T21:11:50.929379Z"
    }
   },
   "outputs": [],
   "source": [
    "nw_words = [\n",
    "    casual_tokenize(\n",
    "        tweet,\n",
    "        reduce_len=True,\n",
    "    ) for tweet in df_noat['text_lower']\n",
    "]"
   ]
  },
  {
   "cell_type": "code",
   "execution_count": 6,
   "metadata": {
    "ExecuteTime": {
     "end_time": "2018-04-01T21:11:51.007715Z",
     "start_time": "2018-04-01T21:11:51.001837Z"
    }
   },
   "outputs": [],
   "source": [
    "nw_corp = [word for sub in nw_words for word in sub if 'http' not in word]\n",
    "nw_chars = [char for word in nw_corp for char in word]"
   ]
  },
  {
   "cell_type": "code",
   "execution_count": 7,
   "metadata": {
    "ExecuteTime": {
     "end_time": "2018-04-01T21:11:52.373325Z",
     "start_time": "2018-04-01T21:11:51.008751Z"
    }
   },
   "outputs": [],
   "source": [
    "chars_in_corpus = Counter()\n",
    "text = []\n",
    "for tweet in nw_words:\n",
    "    for word in tweet:\n",
    "        if 'http' not in word:\n",
    "            text.append(word + ' ')\n",
    "    text.append(' ` ')\n",
    "\n",
    "text = ''.join(text)\n",
    "\n",
    "for char in text:\n",
    "    chars_in_corpus.update(char)\n",
    "    lexicon = list(chars_in_corpus.keys())\n",
    "    char_to_index = {char: i for (i, char) in enumerate(lexicon)}\n",
    "    index_to_char = {i: char for (i, char) in enumerate(lexicon)}"
   ]
  },
  {
   "cell_type": "code",
   "execution_count": 14,
   "metadata": {
    "ExecuteTime": {
     "end_time": "2018-04-01T18:42:33.281362Z",
     "start_time": "2018-04-01T18:42:32.011670Z"
    }
   },
   "outputs": [],
   "source": [
    "nw_corpus = create_lookup_dictionary_and_lexicon()"
   ]
  },
  {
   "cell_type": "code",
   "execution_count": 8,
   "metadata": {
    "ExecuteTime": {
     "end_time": "2018-04-01T21:11:52.384419Z",
     "start_time": "2018-04-01T21:11:52.374458Z"
    }
   },
   "outputs": [
    {
     "data": {
      "text/plain": [
       "count    1697.000000\n",
       "mean       85.723630\n",
       "std        38.764767\n",
       "min         3.000000\n",
       "25%        53.000000\n",
       "50%        85.000000\n",
       "75%       123.000000\n",
       "max       143.000000\n",
       "Name: text_lower, dtype: float64"
      ]
     },
     "execution_count": 8,
     "metadata": {},
     "output_type": "execute_result"
    }
   ],
   "source": [
    "df_noat['text_lower'].str.len().describe()"
   ]
  },
  {
   "cell_type": "code",
   "execution_count": 41,
   "metadata": {
    "ExecuteTime": {
     "end_time": "2018-04-01T22:29:18.892488Z",
     "start_time": "2018-04-01T22:29:18.869753Z"
    }
   },
   "outputs": [],
   "source": [
    "CORPUS_LENGTH = len(text)\n",
    "MAX_SEQ_LENGTH = 85\n",
    "SEQ_STEP = 6\n",
    "N_SEQS = None\n",
    "\n",
    "\n",
    "def create_sequences(corpus):\n",
    "    sequences, next_chars = [], []\n",
    "    for i in range(0, CORPUS_LENGTH - MAX_SEQ_LENGTH, SEQ_STEP):\n",
    "        sequences.append(corpus[i:i + MAX_SEQ_LENGTH])\n",
    "        next_chars.append(corpus[i + MAX_SEQ_LENGTH])\n",
    "    global N_SEQS\n",
    "    N_SEQS = len(sequences)\n",
    "    return np.array(sequences), np.array(next_chars)\n",
    "\n",
    "\n",
    "sequences, next_chars = create_sequences(text)"
   ]
  },
  {
   "cell_type": "code",
   "execution_count": null,
   "metadata": {
    "ExecuteTime": {
     "end_time": "2018-04-01T21:55:48.561420Z",
     "start_time": "2018-04-01T21:55:48.558731Z"
    }
   },
   "outputs": [],
   "source": []
  },
  {
   "cell_type": "code",
   "execution_count": 70,
   "metadata": {
    "ExecuteTime": {
     "end_time": "2018-04-01T22:53:39.413057Z",
     "start_time": "2018-04-01T22:53:38.216488Z"
    }
   },
   "outputs": [],
   "source": [
    "cv = CountVectorizer(analyzer='char')\n",
    "one_hot_X = cv.fit_transform(sequences)\n",
    "\n",
    "X = np.zeros([len(sequences), MAX_SEQ_LENGTH, len(cv.get_feature_names())])\n",
    "y = np.zeros([len(next_chars), len(cv.get_feature_names())])\n",
    "char_to_index = {char: i for (i, char) in enumerate(cv.get_feature_names())}\n",
    "index_to_char = {i: char for (i, char) in enumerate(cv.get_feature_names())}\n",
    "\n",
    "for index, seq in enumerate(sequences):\n",
    "    for i2, char in enumerate(seq):\n",
    "        X[index, i2, char_to_index[char]] = 1\n",
    "    y[index, char_to_index[char]] = 1"
   ]
  },
  {
   "cell_type": "code",
   "execution_count": 57,
   "metadata": {
    "ExecuteTime": {
     "end_time": "2018-04-01T22:46:01.629069Z",
     "start_time": "2018-04-01T22:46:01.427250Z"
    }
   },
   "outputs": [],
   "source": [
    "N_CHARS = len(cv.get_feature_names())\n",
    "\n",
    "\n",
    "def build_model(hidden_layer_size=128,\n",
    "                dropout=0.2,\n",
    "                learning_rate=0.01,\n",
    "                verbose=0):\n",
    "    model = Sequential()\n",
    "    model.add(\n",
    "        LSTM(\n",
    "            hidden_layer_size,\n",
    "            return_sequences=True,\n",
    "            input_shape=(MAX_SEQ_LENGTH, N_CHARS)))\n",
    "    model.add(Dropout(dropout))\n",
    "    model.add(LSTM(hidden_layer_size, return_sequences=False))\n",
    "    model.add(Dropout(dropout))\n",
    "    model.add(Dense(N_CHARS, activation='softmax'))\n",
    "    optimizer = RMSprop(lr=0.01)\n",
    "    model.compile(\n",
    "        loss='categorical_crossentropy', optimizer=RMSprop(lr=learning_rate))\n",
    "    if verbose:\n",
    "        print('Model Summary:')\n",
    "        model.summary()\n",
    "\n",
    "    return model\n",
    "\n",
    "\n",
    "model = build_model()"
   ]
  },
  {
   "cell_type": "code",
   "execution_count": 64,
   "metadata": {
    "ExecuteTime": {
     "end_time": "2018-04-01T22:52:03.274019Z",
     "start_time": "2018-04-01T22:51:06.090509Z"
    }
   },
   "outputs": [
    {
     "name": "stdout",
     "output_type": "stream",
     "text": [
      "Epoch 1/1\n",
      "25209/25209 [==============================] - 57s 2ms/step - loss: 0.0099\n",
      "\n",
      "Epoch 00001: loss improved from inf to 0.00991, saving model to weights.hdf5\n"
     ]
    }
   ],
   "source": [
    "verbose = 1\n",
    "def train_model(model, X, y, batch_size=128, epochs=1, verbose=0):\n",
    "    checkpointer = ModelCheckpoint(\n",
    "        filepath=\"weights.hdf5\",\n",
    "        monitor='loss',\n",
    "        verbose=verbose,\n",
    "        save_best_only=True,\n",
    "        mode='min')\n",
    "    model.fit(\n",
    "        X,\n",
    "        y,\n",
    "        batch_size=batch_size,\n",
    "        epochs=epochs,\n",
    "        verbose=verbose,\n",
    "        callbacks=[checkpointer])\n",
    "\n",
    "\n",
    "train_model(model, X, y, verbose=verbose)"
   ]
  },
  {
   "cell_type": "code",
   "execution_count": 72,
   "metadata": {
    "ExecuteTime": {
     "end_time": "2018-04-01T22:54:26.068685Z",
     "start_time": "2018-04-01T22:54:26.065053Z"
    }
   },
   "outputs": [],
   "source": [
    "def sample(preds):\n",
    "    preds = np.asarray(preds).astype('float64')\n",
    "    preds = np.log(preds) / 0.2\n",
    "    exp_preds = np.exp(preds)\n",
    "    preds = exp_preds / np.sum(exp_preds)\n",
    "    probas = np.random.multinomial(1, preds, 1)\n",
    "    return np.argmax(probas)"
   ]
  },
  {
   "cell_type": "code",
   "execution_count": 73,
   "metadata": {
    "ExecuteTime": {
     "end_time": "2018-04-01T22:54:32.552441Z",
     "start_time": "2018-04-01T22:54:26.306830Z"
    }
   },
   "outputs": [
    {
     "name": "stdout",
     "output_type": "stream",
     "text": [
      "Tweet no. 001\n",
      "=============\n",
      "Generating with seed:\n",
      " on a counter in the last minute . #mufc #uel  ` was a yellow for jonesy not a second\n",
      "_____________________________________________________________________________________\n",
      " on a counter in the last minute . #mufc #uel  ` was a yellow for jonesy not a seconddddddddddddddddddddddddddddddddddddddddddddddddddddddddddddddddddddddddddddddddddddddddddddddddddddd\n",
      "\n",
      "Tweet no. 002\n",
      "=============\n",
      "Generating with seed:\n",
      "  ` bring us josé mourinho . bring the times when we challenge for trophies ! #lvgout\n",
      "_____________________________________________________________________________________\n",
      "  ` bring us josé mourinho . bring the times when we challenge for trophies ! #lvgouttttttttttttttttttttttttttttttttttttttttttttttttttttttttttttttttttttttttttttttttttttttttttttttttttttt\n",
      "\n",
      "Tweet no. 003\n",
      "=============\n",
      "Generating with seed:\n",
      " what a poor game . sums up our season . top 4 is gone now then . gutted . #mufc #mun\n",
      "_____________________________________________________________________________________\n",
      " what a poor game . sums up our season . top 4 is gone now then . gutted . #mufc #munnnnnnnnnnnnnnnnnnnnnnnnnnnnnnnnnnnnnnnnnnnnnnnnnnnnnnnnnnnnnnnnnnnnnnnnnnnnnnnnnnnnnnnnnnnnnnnnnnnnn\n",
      "\n",
      "Tweet no. 004\n",
      "=============\n",
      "Generating with seed:\n",
      " of my voice : football is back !  ` match day . buzzed already ! #mufc #bpl  ` lrt .\n",
      "_____________________________________________________________________________________\n",
      " of my voice : football is back !  ` match day . buzzed already ! #mufc #bpl  ` lrt .....................................................................................................\n",
      "\n",
      "Tweet no. 005\n",
      "=============\n",
      "Generating with seed:\n",
      " got the lollipop update .  ` should be between muller and di maria . both have been \n",
      "_____________________________________________________________________________________\n",
      " got the lollipop update .  ` should be between muller and di maria . both have been                                                                                                     \n",
      "\n",
      "Tweet no. 006\n",
      "=============\n",
      "Generating with seed:\n",
      " finally we have sacked louis van gaal . good riddance . #lvgout #mufc #mouin  ` you'\n",
      "_____________________________________________________________________________________\n",
      " finally we have sacked louis van gaal . good riddance . #lvgout #mufc #mouin  ` you'''''''''''''''''''''''''''''''''''''''''''''''''''''''''''''''''''''''''''''''''''''''''''''''''''''\n",
      "\n",
      "Tweet no. 007\n",
      "=============\n",
      "Generating with seed:\n",
      " need to step up . #mufc #muneve  ` scores a worldie . can't complete a cross . anton\n",
      "_____________________________________________________________________________________\n",
      " need to step up . #mufc #muneve  ` scores a worldie . can't complete a cross . antonnnnnnnnnnnnnnnnnnnnnnnnnnnnnnnnnnnnnnnnnnnnnnnnnnnnnnnnnnnnnnnnnnnnnnnnnnnnnnnnnnnnnnnnnnnnnnnnnnnnn\n",
      "\n",
      "Tweet no. 008\n",
      "=============\n",
      "Generating with seed:\n",
      " adore jose and his tactics . but we're basically not playing one half and only picki\n",
      "_____________________________________________________________________________________\n",
      " adore jose and his tactics . but we're basically not playing one half and only pickiiiiiiiiiiiiiiiiiiiiiiiiiiiiiiiiiiiiiiiiiiiiiiiiiiiiiiiiiiiiiiiiiiiiiiiiiiiiiiiiiiiiiiiiiiiiiiiiiiiii\n",
      "\n",
      "Tweet no. 009\n",
      "=============\n",
      "Generating with seed:\n",
      " man ! #mufc #crymun  ` st . etienne then . good , at least the travel won't be to ru\n",
      "_____________________________________________________________________________________\n",
      " man ! #mufc #crymun  ` st . etienne then . good , at least the travel won't be to ruuuuuuuuuuuuuuuuuuuuuuuuuuuuuuuuuuuuuuuuuuuuuuuuuuuuuuuuuuuuuuuuuuuuuuuuuuuuuuuuuuuuuuuuuuuuuuuuuuuuu\n",
      "\n",
      "Tweet no. 010\n",
      "=============\n",
      "Generating with seed:\n",
      " betting against sunderland going down . newcastle should be winning their game again\n",
      "_____________________________________________________________________________________\n",
      " betting against sunderland going down . newcastle should be winning their game againnnnnnnnnnnnnnnnnnnnnnnnnnnnnnnnnnnnnnnnnnnnnnnnnnnnnnnnnnnnnnnnnnnnnnnnnnnnnnnnnnnnnnnnnnnnnnnnnnnnn\n",
      "\n"
     ]
    }
   ],
   "source": [
    "def generate_tweets(model, corpus, char_to_idx, idx_to_char, n_tweets=10, verbose=0): \n",
    "    model.load_weights('weights.hdf5')\n",
    "    tweets = []\n",
    "    spaces_in_corpus = np.array([idx for idx in range(CORPUS_LENGTH) if text[idx] == ' '])\n",
    "    for i in range(1, n_tweets + 1):\n",
    "        begin = np.random.choice(spaces_in_corpus)\n",
    "        tweet = u''\n",
    "        sequence = text[begin:begin + MAX_SEQ_LENGTH]\n",
    "        tweet += sequence\n",
    "        if verbose:\n",
    "            print('Tweet no. %03d' % i)\n",
    "            print('=' * 13)\n",
    "            print('Generating with seed:')\n",
    "            print(sequence)\n",
    "            print('_' * len(sequence))\n",
    "        for _ in range(100):\n",
    "            x = np.zeros((1, MAX_SEQ_LENGTH, N_CHARS))\n",
    "            for t, char in enumerate(sequence):\n",
    "                x[0, t, char_to_idx[char]] = 1.0\n",
    "\n",
    "            preds = model.predict(x, verbose=0)[0]\n",
    "            next_idx = sample(preds)\n",
    "            next_char = idx_to_char[next_idx]\n",
    "\n",
    "            tweet += next_char\n",
    "            sequence = sequence[1:] + next_char\n",
    "        if verbose:\n",
    "            print(tweet)\n",
    "            print()\n",
    "        tweets.append(tweet)\n",
    "    return tweets\n",
    "\n",
    "tweets = generate_tweets(model, text, char_to_index, index_to_char, verbose=verbose)\n"
   ]
  },
  {
   "cell_type": "code",
   "execution_count": null,
   "metadata": {},
   "outputs": [],
   "source": []
  }
 ],
 "metadata": {
  "kernelspec": {
   "display_name": "Python 3",
   "language": "python",
   "name": "python3"
  },
  "language_info": {
   "codemirror_mode": {
    "name": "ipython",
    "version": 3
   },
   "file_extension": ".py",
   "mimetype": "text/x-python",
   "name": "python",
   "nbconvert_exporter": "python",
   "pygments_lexer": "ipython3",
   "version": "3.6.5"
  },
  "toc": {
   "nav_menu": {},
   "number_sections": true,
   "sideBar": true,
   "skip_h1_title": false,
   "title_cell": "Table of Contents",
   "title_sidebar": "Contents",
   "toc_cell": false,
   "toc_position": {},
   "toc_section_display": true,
   "toc_window_display": false
  },
  "varInspector": {
   "cols": {
    "lenName": 16,
    "lenType": 16,
    "lenVar": 40
   },
   "kernels_config": {
    "python": {
     "delete_cmd_postfix": "",
     "delete_cmd_prefix": "del ",
     "library": "var_list.py",
     "varRefreshCmd": "print(var_dic_list())"
    },
    "r": {
     "delete_cmd_postfix": ") ",
     "delete_cmd_prefix": "rm(",
     "library": "var_list.r",
     "varRefreshCmd": "cat(var_dic_list()) "
    }
   },
   "types_to_exclude": [
    "module",
    "function",
    "builtin_function_or_method",
    "instance",
    "_Feature"
   ],
   "window_display": false
  }
 },
 "nbformat": 4,
 "nbformat_minor": 2
}
