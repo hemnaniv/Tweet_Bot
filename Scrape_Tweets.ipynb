{
 "cells": [
  {
   "cell_type": "code",
   "execution_count": 1,
   "metadata": {
    "ExecuteTime": {
     "end_time": "2018-03-30T20:39:38.641180Z",
     "start_time": "2018-03-30T20:39:38.382054Z"
    }
   },
   "outputs": [],
   "source": [
    "import pandas as pd\n",
    "import twitter\n",
    "%run Constants.ipynb"
   ]
  },
  {
   "cell_type": "code",
   "execution_count": 2,
   "metadata": {
    "ExecuteTime": {
     "end_time": "2018-03-30T20:39:38.644436Z",
     "start_time": "2018-03-30T20:39:38.642338Z"
    }
   },
   "outputs": [],
   "source": [
    "api = twitter.Api(consumer_key=CONSUMER_KEY,\n",
    "                  consumer_secret=CONSUMER_SECRET,\n",
    "                  access_token_key=ACCESS_TOKEN_KEY,\n",
    "                  access_token_secret=ACCESS_TOKEN_SECRET)"
   ]
  },
  {
   "cell_type": "code",
   "execution_count": 3,
   "metadata": {
    "ExecuteTime": {
     "end_time": "2018-03-30T20:39:38.651316Z",
     "start_time": "2018-03-30T20:39:38.645304Z"
    }
   },
   "outputs": [],
   "source": [
    "SCREEN_NAME = '@ScholesGenius'"
   ]
  },
  {
   "cell_type": "code",
   "execution_count": 4,
   "metadata": {
    "ExecuteTime": {
     "end_time": "2018-03-30T20:41:36.930605Z",
     "start_time": "2018-03-30T20:39:38.652335Z"
    },
    "scrolled": true
   },
   "outputs": [],
   "source": [
    "statuses = api.GetUserTimeline(screen_name=SCREEN_NAME,include_rts=False)\n",
    "last_tweet_id = statuses[-1].id\n",
    "while len(statuses) < 4000:\n",
    "    try:\n",
    "        temp = api.GetUserTimeline(screen_name=SCREEN_NAME,include_rts=False,max_id=last_tweet_id)\n",
    "        last_tweet_id = temp[-1].id\n",
    "        statuses.extend(temp)\n",
    "    except:\n",
    "        break\n"
   ]
  },
  {
   "cell_type": "code",
   "execution_count": 12,
   "metadata": {
    "ExecuteTime": {
     "end_time": "2018-03-30T20:42:55.645934Z",
     "start_time": "2018-03-30T20:42:55.501226Z"
    }
   },
   "outputs": [],
   "source": [
    "tweet_df = pd.DataFrame([s.AsDict() for s in statuses])"
   ]
  },
  {
   "cell_type": "code",
   "execution_count": 57,
   "metadata": {
    "ExecuteTime": {
     "end_time": "2018-03-30T21:00:37.386123Z",
     "start_time": "2018-03-30T21:00:37.381636Z"
    }
   },
   "outputs": [],
   "source": [
    "tem = tweet_df.loc[:,['created_at', 'text']]\n",
    "tem.drop_duplicates(inplace=True)"
   ]
  },
  {
   "cell_type": "code",
   "execution_count": 62,
   "metadata": {
    "ExecuteTime": {
     "end_time": "2018-03-30T21:17:26.377115Z",
     "start_time": "2018-03-30T21:17:26.168731Z"
    }
   },
   "outputs": [],
   "source": [
    "tweet_df.to_csv('tiwari_tweets.csv')\n",
    "tem.to_csv('tiwari_unique_tweets.csv')"
   ]
  },
  {
   "cell_type": "code",
   "execution_count": null,
   "metadata": {},
   "outputs": [],
   "source": []
  }
 ],
 "metadata": {
  "kernelspec": {
   "display_name": "Python 3",
   "language": "python",
   "name": "python3"
  },
  "language_info": {
   "codemirror_mode": {
    "name": "ipython",
    "version": 3
   },
   "file_extension": ".py",
   "mimetype": "text/x-python",
   "name": "python",
   "nbconvert_exporter": "python",
   "pygments_lexer": "ipython3",
   "version": "3.6.4"
  },
  "toc": {
   "nav_menu": {},
   "number_sections": true,
   "sideBar": true,
   "skip_h1_title": false,
   "title_cell": "Table of Contents",
   "title_sidebar": "Contents",
   "toc_cell": false,
   "toc_position": {},
   "toc_section_display": true,
   "toc_window_display": false
  },
  "varInspector": {
   "cols": {
    "lenName": 16,
    "lenType": 16,
    "lenVar": 40
   },
   "kernels_config": {
    "python": {
     "delete_cmd_postfix": "",
     "delete_cmd_prefix": "del ",
     "library": "var_list.py",
     "varRefreshCmd": "print(var_dic_list())"
    },
    "r": {
     "delete_cmd_postfix": ") ",
     "delete_cmd_prefix": "rm(",
     "library": "var_list.r",
     "varRefreshCmd": "cat(var_dic_list()) "
    }
   },
   "types_to_exclude": [
    "module",
    "function",
    "builtin_function_or_method",
    "instance",
    "_Feature"
   ],
   "window_display": false
  }
 },
 "nbformat": 4,
 "nbformat_minor": 2
}
